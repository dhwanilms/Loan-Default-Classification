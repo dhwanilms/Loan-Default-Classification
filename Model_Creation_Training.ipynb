{
 "cells": [
  {
   "cell_type": "markdown",
   "id": "6b0fc2e2",
   "metadata": {
    "id": "6b0fc2e2"
   },
   "source": [
    "<h1><center>Section - 3: Model Creation and Training</center></h1>\n",
    "\n",
    "In this section we would be creating and training many different machine learning models starting from simpler ones such as Logistic Regression, K-Nearest Neighbors to more complex ones such as Random Forest Classifier as well as Deep Learning Neural Networks. \n",
    "So let's get started."
   ]
  },
  {
   "cell_type": "code",
   "execution_count": 3,
   "id": "ffc7aae6",
   "metadata": {
    "id": "ffc7aae6"
   },
   "outputs": [],
   "source": [
    "# necessary imports\n",
    "import pandas as pd\n",
    "import numpy as np\n",
    "import matplotlib.pyplot as plt\n",
    "import seaborn as sns\n",
    "from sklearn.linear_model import LogisticRegression\n",
    "from sklearn.ensemble import RandomForestClassifier\n",
    "from sklearn.neighbors import KNeighborsClassifier\n",
    "from sklearn.svm import SVC\n",
    "from sklearn.pipeline import Pipeline\n",
    "from sklearn.preprocessing import StandardScaler\n",
    "from sklearn.metrics import classification_report,confusion_matrix,accuracy_score\n",
    "from sklearn.model_selection import KFold\n",
    "%matplotlib inline\n",
    "\n",
    "# to ignore warnings\n",
    "import warnings\n",
    "warnings.filterwarnings('ignore')"
   ]
  },
  {
   "cell_type": "code",
   "execution_count": 4,
   "id": "0ef10f6a",
   "metadata": {
    "colab": {
     "base_uri": "https://localhost:8080/",
     "height": 288
    },
    "id": "0ef10f6a",
    "outputId": "0f30de44-a15c-4a0f-d2d8-c950f9fff7cb"
   },
   "outputs": [
    {
     "data": {
      "text/html": [
       "\n",
       "  <div id=\"df-ab37998e-fb63-4a0b-9557-28fd1f5c3648\">\n",
       "    <div class=\"colab-df-container\">\n",
       "      <div>\n",
       "<style scoped>\n",
       "    .dataframe tbody tr th:only-of-type {\n",
       "        vertical-align: middle;\n",
       "    }\n",
       "\n",
       "    .dataframe tbody tr th {\n",
       "        vertical-align: top;\n",
       "    }\n",
       "\n",
       "    .dataframe thead th {\n",
       "        text-align: right;\n",
       "    }\n",
       "</style>\n",
       "<table border=\"1\" class=\"dataframe\">\n",
       "  <thead>\n",
       "    <tr style=\"text-align: right;\">\n",
       "      <th></th>\n",
       "      <th>loan_amnt</th>\n",
       "      <th>term</th>\n",
       "      <th>int_rate</th>\n",
       "      <th>installment</th>\n",
       "      <th>annual_inc</th>\n",
       "      <th>dti</th>\n",
       "      <th>open_acc</th>\n",
       "      <th>pub_rec</th>\n",
       "      <th>revol_bal</th>\n",
       "      <th>revol_util</th>\n",
       "      <th>total_acc</th>\n",
       "      <th>mort_acc</th>\n",
       "      <th>pub_rec_bankruptcies</th>\n",
       "      <th>loan_repaid</th>\n",
       "      <th>sub_grade_A2</th>\n",
       "      <th>sub_grade_A3</th>\n",
       "      <th>sub_grade_A4</th>\n",
       "      <th>sub_grade_A5</th>\n",
       "      <th>sub_grade_B1</th>\n",
       "      <th>sub_grade_B2</th>\n",
       "      <th>sub_grade_B3</th>\n",
       "      <th>sub_grade_B4</th>\n",
       "      <th>sub_grade_B5</th>\n",
       "      <th>sub_grade_C1</th>\n",
       "      <th>sub_grade_C2</th>\n",
       "      <th>sub_grade_C3</th>\n",
       "      <th>sub_grade_C4</th>\n",
       "      <th>sub_grade_C5</th>\n",
       "      <th>sub_grade_D1</th>\n",
       "      <th>sub_grade_D2</th>\n",
       "      <th>sub_grade_D3</th>\n",
       "      <th>sub_grade_D4</th>\n",
       "      <th>sub_grade_D5</th>\n",
       "      <th>sub_grade_E1</th>\n",
       "      <th>sub_grade_E2</th>\n",
       "      <th>sub_grade_E3</th>\n",
       "      <th>sub_grade_E4</th>\n",
       "      <th>sub_grade_E5</th>\n",
       "      <th>sub_grade_F1</th>\n",
       "      <th>sub_grade_F2</th>\n",
       "      <th>sub_grade_F3</th>\n",
       "      <th>sub_grade_F4</th>\n",
       "      <th>sub_grade_F5</th>\n",
       "      <th>sub_grade_G1</th>\n",
       "      <th>sub_grade_G2</th>\n",
       "      <th>sub_grade_G3</th>\n",
       "      <th>sub_grade_G4</th>\n",
       "      <th>sub_grade_G5</th>\n",
       "      <th>verification_status_Source Verified</th>\n",
       "      <th>verification_status_Verified</th>\n",
       "      <th>application_type_INDIVIDUAL</th>\n",
       "      <th>application_type_JOINT</th>\n",
       "      <th>initial_list_status_w</th>\n",
       "      <th>purpose_credit_card</th>\n",
       "      <th>purpose_debt_consolidation</th>\n",
       "      <th>purpose_educational</th>\n",
       "      <th>purpose_home_improvement</th>\n",
       "      <th>purpose_house</th>\n",
       "      <th>purpose_major_purchase</th>\n",
       "      <th>purpose_medical</th>\n",
       "      <th>purpose_moving</th>\n",
       "      <th>purpose_other</th>\n",
       "      <th>purpose_renewable_energy</th>\n",
       "      <th>purpose_small_business</th>\n",
       "      <th>purpose_vacation</th>\n",
       "      <th>purpose_wedding</th>\n",
       "      <th>zip_code_5113</th>\n",
       "      <th>zip_code_11650</th>\n",
       "      <th>zip_code_22690</th>\n",
       "      <th>zip_code_29597</th>\n",
       "      <th>zip_code_30723</th>\n",
       "      <th>zip_code_48052</th>\n",
       "      <th>zip_code_70466</th>\n",
       "      <th>zip_code_86630</th>\n",
       "      <th>zip_code_93700</th>\n",
       "      <th>earliest_cr_year</th>\n",
       "    </tr>\n",
       "  </thead>\n",
       "  <tbody>\n",
       "    <tr>\n",
       "      <th>0</th>\n",
       "      <td>10000.0</td>\n",
       "      <td>36</td>\n",
       "      <td>11.44</td>\n",
       "      <td>329.48</td>\n",
       "      <td>117000.0</td>\n",
       "      <td>26.24</td>\n",
       "      <td>16.0</td>\n",
       "      <td>0.0</td>\n",
       "      <td>36369.0</td>\n",
       "      <td>41.8</td>\n",
       "      <td>25.0</td>\n",
       "      <td>0.0</td>\n",
       "      <td>0.0</td>\n",
       "      <td>1</td>\n",
       "      <td>0</td>\n",
       "      <td>0</td>\n",
       "      <td>0</td>\n",
       "      <td>0</td>\n",
       "      <td>0</td>\n",
       "      <td>0</td>\n",
       "      <td>0</td>\n",
       "      <td>1</td>\n",
       "      <td>0</td>\n",
       "      <td>0</td>\n",
       "      <td>0</td>\n",
       "      <td>0</td>\n",
       "      <td>0</td>\n",
       "      <td>0</td>\n",
       "      <td>0</td>\n",
       "      <td>0</td>\n",
       "      <td>0</td>\n",
       "      <td>0</td>\n",
       "      <td>0</td>\n",
       "      <td>0</td>\n",
       "      <td>0</td>\n",
       "      <td>0</td>\n",
       "      <td>0</td>\n",
       "      <td>0</td>\n",
       "      <td>0</td>\n",
       "      <td>0</td>\n",
       "      <td>0</td>\n",
       "      <td>0</td>\n",
       "      <td>0</td>\n",
       "      <td>0</td>\n",
       "      <td>0</td>\n",
       "      <td>0</td>\n",
       "      <td>0</td>\n",
       "      <td>0</td>\n",
       "      <td>0</td>\n",
       "      <td>0</td>\n",
       "      <td>1</td>\n",
       "      <td>0</td>\n",
       "      <td>1</td>\n",
       "      <td>0</td>\n",
       "      <td>0</td>\n",
       "      <td>0</td>\n",
       "      <td>0</td>\n",
       "      <td>0</td>\n",
       "      <td>0</td>\n",
       "      <td>0</td>\n",
       "      <td>0</td>\n",
       "      <td>0</td>\n",
       "      <td>0</td>\n",
       "      <td>0</td>\n",
       "      <td>1</td>\n",
       "      <td>0</td>\n",
       "      <td>0</td>\n",
       "      <td>0</td>\n",
       "      <td>1</td>\n",
       "      <td>0</td>\n",
       "      <td>0</td>\n",
       "      <td>0</td>\n",
       "      <td>0</td>\n",
       "      <td>0</td>\n",
       "      <td>0</td>\n",
       "      <td>1990</td>\n",
       "    </tr>\n",
       "    <tr>\n",
       "      <th>1</th>\n",
       "      <td>8000.0</td>\n",
       "      <td>36</td>\n",
       "      <td>11.99</td>\n",
       "      <td>265.68</td>\n",
       "      <td>65000.0</td>\n",
       "      <td>22.05</td>\n",
       "      <td>17.0</td>\n",
       "      <td>0.0</td>\n",
       "      <td>20131.0</td>\n",
       "      <td>53.3</td>\n",
       "      <td>27.0</td>\n",
       "      <td>3.0</td>\n",
       "      <td>0.0</td>\n",
       "      <td>1</td>\n",
       "      <td>0</td>\n",
       "      <td>0</td>\n",
       "      <td>0</td>\n",
       "      <td>0</td>\n",
       "      <td>0</td>\n",
       "      <td>0</td>\n",
       "      <td>0</td>\n",
       "      <td>0</td>\n",
       "      <td>1</td>\n",
       "      <td>0</td>\n",
       "      <td>0</td>\n",
       "      <td>0</td>\n",
       "      <td>0</td>\n",
       "      <td>0</td>\n",
       "      <td>0</td>\n",
       "      <td>0</td>\n",
       "      <td>0</td>\n",
       "      <td>0</td>\n",
       "      <td>0</td>\n",
       "      <td>0</td>\n",
       "      <td>0</td>\n",
       "      <td>0</td>\n",
       "      <td>0</td>\n",
       "      <td>0</td>\n",
       "      <td>0</td>\n",
       "      <td>0</td>\n",
       "      <td>0</td>\n",
       "      <td>0</td>\n",
       "      <td>0</td>\n",
       "      <td>0</td>\n",
       "      <td>0</td>\n",
       "      <td>0</td>\n",
       "      <td>0</td>\n",
       "      <td>0</td>\n",
       "      <td>0</td>\n",
       "      <td>0</td>\n",
       "      <td>1</td>\n",
       "      <td>0</td>\n",
       "      <td>0</td>\n",
       "      <td>0</td>\n",
       "      <td>1</td>\n",
       "      <td>0</td>\n",
       "      <td>0</td>\n",
       "      <td>0</td>\n",
       "      <td>0</td>\n",
       "      <td>0</td>\n",
       "      <td>0</td>\n",
       "      <td>0</td>\n",
       "      <td>0</td>\n",
       "      <td>0</td>\n",
       "      <td>0</td>\n",
       "      <td>0</td>\n",
       "      <td>1</td>\n",
       "      <td>0</td>\n",
       "      <td>0</td>\n",
       "      <td>0</td>\n",
       "      <td>0</td>\n",
       "      <td>0</td>\n",
       "      <td>0</td>\n",
       "      <td>0</td>\n",
       "      <td>0</td>\n",
       "      <td>2004</td>\n",
       "    </tr>\n",
       "    <tr>\n",
       "      <th>2</th>\n",
       "      <td>15600.0</td>\n",
       "      <td>36</td>\n",
       "      <td>10.49</td>\n",
       "      <td>506.97</td>\n",
       "      <td>43057.0</td>\n",
       "      <td>12.79</td>\n",
       "      <td>13.0</td>\n",
       "      <td>0.0</td>\n",
       "      <td>11987.0</td>\n",
       "      <td>92.2</td>\n",
       "      <td>26.0</td>\n",
       "      <td>0.0</td>\n",
       "      <td>0.0</td>\n",
       "      <td>1</td>\n",
       "      <td>0</td>\n",
       "      <td>0</td>\n",
       "      <td>0</td>\n",
       "      <td>0</td>\n",
       "      <td>0</td>\n",
       "      <td>0</td>\n",
       "      <td>1</td>\n",
       "      <td>0</td>\n",
       "      <td>0</td>\n",
       "      <td>0</td>\n",
       "      <td>0</td>\n",
       "      <td>0</td>\n",
       "      <td>0</td>\n",
       "      <td>0</td>\n",
       "      <td>0</td>\n",
       "      <td>0</td>\n",
       "      <td>0</td>\n",
       "      <td>0</td>\n",
       "      <td>0</td>\n",
       "      <td>0</td>\n",
       "      <td>0</td>\n",
       "      <td>0</td>\n",
       "      <td>0</td>\n",
       "      <td>0</td>\n",
       "      <td>0</td>\n",
       "      <td>0</td>\n",
       "      <td>0</td>\n",
       "      <td>0</td>\n",
       "      <td>0</td>\n",
       "      <td>0</td>\n",
       "      <td>0</td>\n",
       "      <td>0</td>\n",
       "      <td>0</td>\n",
       "      <td>0</td>\n",
       "      <td>1</td>\n",
       "      <td>0</td>\n",
       "      <td>1</td>\n",
       "      <td>0</td>\n",
       "      <td>0</td>\n",
       "      <td>1</td>\n",
       "      <td>0</td>\n",
       "      <td>0</td>\n",
       "      <td>0</td>\n",
       "      <td>0</td>\n",
       "      <td>0</td>\n",
       "      <td>0</td>\n",
       "      <td>0</td>\n",
       "      <td>0</td>\n",
       "      <td>0</td>\n",
       "      <td>0</td>\n",
       "      <td>0</td>\n",
       "      <td>0</td>\n",
       "      <td>1</td>\n",
       "      <td>0</td>\n",
       "      <td>0</td>\n",
       "      <td>0</td>\n",
       "      <td>0</td>\n",
       "      <td>0</td>\n",
       "      <td>0</td>\n",
       "      <td>0</td>\n",
       "      <td>0</td>\n",
       "      <td>2007</td>\n",
       "    </tr>\n",
       "    <tr>\n",
       "      <th>3</th>\n",
       "      <td>7200.0</td>\n",
       "      <td>36</td>\n",
       "      <td>6.49</td>\n",
       "      <td>220.65</td>\n",
       "      <td>54000.0</td>\n",
       "      <td>2.60</td>\n",
       "      <td>6.0</td>\n",
       "      <td>0.0</td>\n",
       "      <td>5472.0</td>\n",
       "      <td>21.5</td>\n",
       "      <td>13.0</td>\n",
       "      <td>0.0</td>\n",
       "      <td>0.0</td>\n",
       "      <td>1</td>\n",
       "      <td>1</td>\n",
       "      <td>0</td>\n",
       "      <td>0</td>\n",
       "      <td>0</td>\n",
       "      <td>0</td>\n",
       "      <td>0</td>\n",
       "      <td>0</td>\n",
       "      <td>0</td>\n",
       "      <td>0</td>\n",
       "      <td>0</td>\n",
       "      <td>0</td>\n",
       "      <td>0</td>\n",
       "      <td>0</td>\n",
       "      <td>0</td>\n",
       "      <td>0</td>\n",
       "      <td>0</td>\n",
       "      <td>0</td>\n",
       "      <td>0</td>\n",
       "      <td>0</td>\n",
       "      <td>0</td>\n",
       "      <td>0</td>\n",
       "      <td>0</td>\n",
       "      <td>0</td>\n",
       "      <td>0</td>\n",
       "      <td>0</td>\n",
       "      <td>0</td>\n",
       "      <td>0</td>\n",
       "      <td>0</td>\n",
       "      <td>0</td>\n",
       "      <td>0</td>\n",
       "      <td>0</td>\n",
       "      <td>0</td>\n",
       "      <td>0</td>\n",
       "      <td>0</td>\n",
       "      <td>0</td>\n",
       "      <td>0</td>\n",
       "      <td>1</td>\n",
       "      <td>0</td>\n",
       "      <td>0</td>\n",
       "      <td>1</td>\n",
       "      <td>0</td>\n",
       "      <td>0</td>\n",
       "      <td>0</td>\n",
       "      <td>0</td>\n",
       "      <td>0</td>\n",
       "      <td>0</td>\n",
       "      <td>0</td>\n",
       "      <td>0</td>\n",
       "      <td>0</td>\n",
       "      <td>0</td>\n",
       "      <td>0</td>\n",
       "      <td>0</td>\n",
       "      <td>0</td>\n",
       "      <td>0</td>\n",
       "      <td>0</td>\n",
       "      <td>0</td>\n",
       "      <td>0</td>\n",
       "      <td>0</td>\n",
       "      <td>0</td>\n",
       "      <td>0</td>\n",
       "      <td>0</td>\n",
       "      <td>2006</td>\n",
       "    </tr>\n",
       "    <tr>\n",
       "      <th>4</th>\n",
       "      <td>24375.0</td>\n",
       "      <td>60</td>\n",
       "      <td>17.27</td>\n",
       "      <td>609.33</td>\n",
       "      <td>55000.0</td>\n",
       "      <td>33.95</td>\n",
       "      <td>13.0</td>\n",
       "      <td>0.0</td>\n",
       "      <td>24584.0</td>\n",
       "      <td>69.8</td>\n",
       "      <td>43.0</td>\n",
       "      <td>1.0</td>\n",
       "      <td>0.0</td>\n",
       "      <td>0</td>\n",
       "      <td>0</td>\n",
       "      <td>0</td>\n",
       "      <td>0</td>\n",
       "      <td>0</td>\n",
       "      <td>0</td>\n",
       "      <td>0</td>\n",
       "      <td>0</td>\n",
       "      <td>0</td>\n",
       "      <td>0</td>\n",
       "      <td>0</td>\n",
       "      <td>0</td>\n",
       "      <td>0</td>\n",
       "      <td>0</td>\n",
       "      <td>1</td>\n",
       "      <td>0</td>\n",
       "      <td>0</td>\n",
       "      <td>0</td>\n",
       "      <td>0</td>\n",
       "      <td>0</td>\n",
       "      <td>0</td>\n",
       "      <td>0</td>\n",
       "      <td>0</td>\n",
       "      <td>0</td>\n",
       "      <td>0</td>\n",
       "      <td>0</td>\n",
       "      <td>0</td>\n",
       "      <td>0</td>\n",
       "      <td>0</td>\n",
       "      <td>0</td>\n",
       "      <td>0</td>\n",
       "      <td>0</td>\n",
       "      <td>0</td>\n",
       "      <td>0</td>\n",
       "      <td>0</td>\n",
       "      <td>0</td>\n",
       "      <td>1</td>\n",
       "      <td>1</td>\n",
       "      <td>0</td>\n",
       "      <td>0</td>\n",
       "      <td>1</td>\n",
       "      <td>0</td>\n",
       "      <td>0</td>\n",
       "      <td>0</td>\n",
       "      <td>0</td>\n",
       "      <td>0</td>\n",
       "      <td>0</td>\n",
       "      <td>0</td>\n",
       "      <td>0</td>\n",
       "      <td>0</td>\n",
       "      <td>0</td>\n",
       "      <td>0</td>\n",
       "      <td>0</td>\n",
       "      <td>0</td>\n",
       "      <td>1</td>\n",
       "      <td>0</td>\n",
       "      <td>0</td>\n",
       "      <td>0</td>\n",
       "      <td>0</td>\n",
       "      <td>0</td>\n",
       "      <td>0</td>\n",
       "      <td>0</td>\n",
       "      <td>1999</td>\n",
       "    </tr>\n",
       "  </tbody>\n",
       "</table>\n",
       "</div>\n",
       "      <button class=\"colab-df-convert\" onclick=\"convertToInteractive('df-ab37998e-fb63-4a0b-9557-28fd1f5c3648')\"\n",
       "              title=\"Convert this dataframe to an interactive table.\"\n",
       "              style=\"display:none;\">\n",
       "        \n",
       "  <svg xmlns=\"http://www.w3.org/2000/svg\" height=\"24px\"viewBox=\"0 0 24 24\"\n",
       "       width=\"24px\">\n",
       "    <path d=\"M0 0h24v24H0V0z\" fill=\"none\"/>\n",
       "    <path d=\"M18.56 5.44l.94 2.06.94-2.06 2.06-.94-2.06-.94-.94-2.06-.94 2.06-2.06.94zm-11 1L8.5 8.5l.94-2.06 2.06-.94-2.06-.94L8.5 2.5l-.94 2.06-2.06.94zm10 10l.94 2.06.94-2.06 2.06-.94-2.06-.94-.94-2.06-.94 2.06-2.06.94z\"/><path d=\"M17.41 7.96l-1.37-1.37c-.4-.4-.92-.59-1.43-.59-.52 0-1.04.2-1.43.59L10.3 9.45l-7.72 7.72c-.78.78-.78 2.05 0 2.83L4 21.41c.39.39.9.59 1.41.59.51 0 1.02-.2 1.41-.59l7.78-7.78 2.81-2.81c.8-.78.8-2.07 0-2.86zM5.41 20L4 18.59l7.72-7.72 1.47 1.35L5.41 20z\"/>\n",
       "  </svg>\n",
       "      </button>\n",
       "      \n",
       "  <style>\n",
       "    .colab-df-container {\n",
       "      display:flex;\n",
       "      flex-wrap:wrap;\n",
       "      gap: 12px;\n",
       "    }\n",
       "\n",
       "    .colab-df-convert {\n",
       "      background-color: #E8F0FE;\n",
       "      border: none;\n",
       "      border-radius: 50%;\n",
       "      cursor: pointer;\n",
       "      display: none;\n",
       "      fill: #1967D2;\n",
       "      height: 32px;\n",
       "      padding: 0 0 0 0;\n",
       "      width: 32px;\n",
       "    }\n",
       "\n",
       "    .colab-df-convert:hover {\n",
       "      background-color: #E2EBFA;\n",
       "      box-shadow: 0px 1px 2px rgba(60, 64, 67, 0.3), 0px 1px 3px 1px rgba(60, 64, 67, 0.15);\n",
       "      fill: #174EA6;\n",
       "    }\n",
       "\n",
       "    [theme=dark] .colab-df-convert {\n",
       "      background-color: #3B4455;\n",
       "      fill: #D2E3FC;\n",
       "    }\n",
       "\n",
       "    [theme=dark] .colab-df-convert:hover {\n",
       "      background-color: #434B5C;\n",
       "      box-shadow: 0px 1px 3px 1px rgba(0, 0, 0, 0.15);\n",
       "      filter: drop-shadow(0px 1px 2px rgba(0, 0, 0, 0.3));\n",
       "      fill: #FFFFFF;\n",
       "    }\n",
       "  </style>\n",
       "\n",
       "      <script>\n",
       "        const buttonEl =\n",
       "          document.querySelector('#df-ab37998e-fb63-4a0b-9557-28fd1f5c3648 button.colab-df-convert');\n",
       "        buttonEl.style.display =\n",
       "          google.colab.kernel.accessAllowed ? 'block' : 'none';\n",
       "\n",
       "        async function convertToInteractive(key) {\n",
       "          const element = document.querySelector('#df-ab37998e-fb63-4a0b-9557-28fd1f5c3648');\n",
       "          const dataTable =\n",
       "            await google.colab.kernel.invokeFunction('convertToInteractive',\n",
       "                                                     [key], {});\n",
       "          if (!dataTable) return;\n",
       "\n",
       "          const docLinkHtml = 'Like what you see? Visit the ' +\n",
       "            '<a target=\"_blank\" href=https://colab.research.google.com/notebooks/data_table.ipynb>data table notebook</a>'\n",
       "            + ' to learn more about interactive tables.';\n",
       "          element.innerHTML = '';\n",
       "          dataTable['output_type'] = 'display_data';\n",
       "          await google.colab.output.renderOutput(dataTable, element);\n",
       "          const docLink = document.createElement('div');\n",
       "          docLink.innerHTML = docLinkHtml;\n",
       "          element.appendChild(docLink);\n",
       "        }\n",
       "      </script>\n",
       "    </div>\n",
       "  </div>\n",
       "  "
      ],
      "text/plain": [
       "   loan_amnt  term  int_rate  ...  zip_code_86630  zip_code_93700  earliest_cr_year\n",
       "0    10000.0    36     11.44  ...               0               0              1990\n",
       "1     8000.0    36     11.99  ...               0               0              2004\n",
       "2    15600.0    36     10.49  ...               0               0              2007\n",
       "3     7200.0    36      6.49  ...               0               0              2006\n",
       "4    24375.0    60     17.27  ...               0               0              1999\n",
       "\n",
       "[5 rows x 76 columns]"
      ]
     },
     "execution_count": 4,
     "metadata": {},
     "output_type": "execute_result"
    }
   ],
   "source": [
    "# reading the processed data\n",
    "df=pd.read_csv('drive/MyDrive/processed_data.csv',index_col=0)\n",
    "df.head()"
   ]
  },
  {
   "cell_type": "markdown",
   "id": "ddd32517",
   "metadata": {
    "id": "ddd32517"
   },
   "source": [
    "## Train Test Split"
   ]
  },
  {
   "cell_type": "markdown",
   "id": "015f6ca7",
   "metadata": {
    "id": "015f6ca7"
   },
   "source": [
    "We would be splitting the entire dataset into a train portion and a test portion. This is an important step to prevent overfitting of the model and also we can accurately evaluate the performance of the model."
   ]
  },
  {
   "cell_type": "code",
   "execution_count": 5,
   "id": "e914b299",
   "metadata": {
    "id": "e914b299"
   },
   "outputs": [],
   "source": [
    "from sklearn.model_selection import train_test_split"
   ]
  },
  {
   "cell_type": "code",
   "execution_count": 6,
   "id": "bffb53ad",
   "metadata": {
    "id": "bffb53ad"
   },
   "outputs": [],
   "source": [
    "X=df.drop('loan_repaid',axis=1)   # all columns except the loan_repaid column\n",
    "y=df['loan_repaid']"
   ]
  },
  {
   "cell_type": "code",
   "execution_count": 7,
   "id": "82a28008",
   "metadata": {
    "id": "82a28008"
   },
   "outputs": [],
   "source": [
    "# splitting the dataset into 30% test and 70% train\n",
    "X_train, X_test, y_train, y_test = train_test_split(X, y, test_size=0.3, random_state=101)"
   ]
  },
  {
   "cell_type": "markdown",
   "id": "99f6d963",
   "metadata": {
    "id": "99f6d963"
   },
   "source": [
    "## General Function for all ML algorithms"
   ]
  },
  {
   "cell_type": "code",
   "execution_count": 8,
   "id": "daeb4388",
   "metadata": {
    "id": "daeb4388"
   },
   "outputs": [],
   "source": [
    "'''\n",
    "The function would include fitting the training data to the model, making predictions on the test data \n",
    "and further performing k-fold cross validation\n",
    "'''\n",
    "\n",
    "def classification_model(model,X_train,X_test,y_train,y_test):\n",
    "    \n",
    "    # fit the model on the training data\n",
    "    model.fit(X_train,y_train)\n",
    "    \n",
    "    # making predictions on the test data\n",
    "    predictions=model.predict(X_test)\n",
    "    \n",
    "    # printing the metrics\n",
    "    print(\"The accuracy is: \",accuracy_score(y_test,predictions))\n",
    "    print(\"\\n\")\n",
    "    print(classification_report(y_test,predictions))\n",
    "    print(confusion_matrix(y_test,predictions))\n",
    "    print(\"\\n\")\n",
    "    \n",
    "    # 10 fold cross validation\n",
    "    kf_validation=KFold(n_splits=10,shuffle=True)\n",
    "    scores=[]\n",
    "    \n",
    "    for k,(train,test) in enumerate(kf_validation.split(X_train,y_train)):\n",
    "        model.fit(X_train.iloc[train,:],y_train.iloc[train])\n",
    "        score=model.score(X_train.iloc[test,:],y_train.iloc[test])\n",
    "        scores.append(score)\n",
    "        print('Fold: %2d, Accuracy: %.3f' % (k+1, score))\n",
    "    \n",
    "    print('\\n\\nCross-Validation accuracy: %.3f +/- %.3f' %(np.mean(scores), np.std(scores)))"
   ]
  },
  {
   "cell_type": "markdown",
   "id": "6d479f4d",
   "metadata": {
    "id": "6d479f4d"
   },
   "source": [
    "## Logistic Regression"
   ]
  },
  {
   "cell_type": "code",
   "execution_count": 11,
   "id": "dc632c10",
   "metadata": {
    "id": "dc632c10"
   },
   "outputs": [],
   "source": [
    "pipe_lr=Pipeline([\n",
    "    ('scaler',StandardScaler()),\n",
    "    ('model',LogisticRegression())\n",
    "])"
   ]
  },
  {
   "cell_type": "code",
   "execution_count": 12,
   "id": "88a63d9f",
   "metadata": {
    "colab": {
     "base_uri": "https://localhost:8080/"
    },
    "id": "88a63d9f",
    "outputId": "6bcd3fb7-445e-4e29-c1c3-0e02c58449ce"
   },
   "outputs": [
    {
     "name": "stdout",
     "output_type": "stream",
     "text": [
      "The accuracy is:  0.88788522848034\n",
      "\n",
      "\n",
      "              precision    recall  f1-score   support\n",
      "\n",
      "           0       0.95      0.45      0.61     23363\n",
      "           1       0.88      0.99      0.93     95203\n",
      "\n",
      "    accuracy                           0.89    118566\n",
      "   macro avg       0.92      0.72      0.77    118566\n",
      "weighted avg       0.90      0.89      0.87    118566\n",
      "\n",
      "[[10568 12795]\n",
      " [  498 94705]]\n",
      "\n",
      "\n",
      "Fold:  1, Accuracy: 0.889\n",
      "Fold:  2, Accuracy: 0.888\n",
      "Fold:  3, Accuracy: 0.888\n",
      "Fold:  4, Accuracy: 0.890\n",
      "Fold:  5, Accuracy: 0.890\n",
      "Fold:  6, Accuracy: 0.893\n",
      "Fold:  7, Accuracy: 0.889\n",
      "Fold:  8, Accuracy: 0.890\n",
      "Fold:  9, Accuracy: 0.890\n",
      "Fold: 10, Accuracy: 0.887\n",
      "\n",
      "\n",
      "Cross-Validation accuracy: 0.889 +/- 0.002\n"
     ]
    }
   ],
   "source": [
    "classification_model(pipe_lr,X_train,X_test,y_train,y_test)"
   ]
  },
  {
   "cell_type": "markdown",
   "id": "ad43dfeb",
   "metadata": {
    "id": "ad43dfeb"
   },
   "source": [
    "## K-Nearest Neighbor"
   ]
  },
  {
   "cell_type": "code",
   "execution_count": 13,
   "id": "bf312e25",
   "metadata": {
    "id": "bf312e25"
   },
   "outputs": [],
   "source": [
    "pipe_knn=Pipeline([\n",
    "    ('scaler',StandardScaler()),\n",
    "    ('model',KNeighborsClassifier(n_neighbors=5,n_jobs=-1))\n",
    "])"
   ]
  },
  {
   "cell_type": "code",
   "execution_count": 14,
   "id": "0c73e969",
   "metadata": {
    "colab": {
     "base_uri": "https://localhost:8080/"
    },
    "id": "0c73e969",
    "outputId": "10c618e4-fd96-4b7e-9899-1e76ee18a470"
   },
   "outputs": [
    {
     "name": "stdout",
     "output_type": "stream",
     "text": [
      "The accuracy is:  0.8696169222205354\n",
      "\n",
      "\n",
      "              precision    recall  f1-score   support\n",
      "\n",
      "           0       0.75      0.51      0.60     23363\n",
      "           1       0.89      0.96      0.92     95203\n",
      "\n",
      "    accuracy                           0.87    118566\n",
      "   macro avg       0.82      0.73      0.76    118566\n",
      "weighted avg       0.86      0.87      0.86    118566\n",
      "\n",
      "[[11821 11542]\n",
      " [ 3917 91286]]\n",
      "\n",
      "\n",
      "Fold:  1, Accuracy: 0.867\n",
      "Fold:  2, Accuracy: 0.873\n",
      "Fold:  3, Accuracy: 0.872\n",
      "Fold:  4, Accuracy: 0.867\n",
      "Fold:  5, Accuracy: 0.868\n",
      "Fold:  6, Accuracy: 0.872\n",
      "Fold:  7, Accuracy: 0.870\n",
      "Fold:  8, Accuracy: 0.871\n",
      "Fold:  9, Accuracy: 0.871\n",
      "Fold: 10, Accuracy: 0.871\n",
      "\n",
      "\n",
      "Cross-Validation accuracy: 0.870 +/- 0.002\n"
     ]
    }
   ],
   "source": [
    "classification_model(pipe_knn,X_train,X_test,y_train,y_test)"
   ]
  },
  {
   "cell_type": "markdown",
   "id": "OdCApm3gSqiS",
   "metadata": {
    "id": "OdCApm3gSqiS"
   },
   "source": [
    "## Random Forest Classifier"
   ]
  },
  {
   "cell_type": "code",
   "execution_count": 17,
   "id": "e5d45a2d",
   "metadata": {
    "id": "e5d45a2d"
   },
   "outputs": [],
   "source": [
    "pipe_rfc=Pipeline([\n",
    "    ('scaler',StandardScaler()),\n",
    "    ('model',RandomForestClassifier(n_estimators=500,n_jobs=-1,verbose=1))\n",
    "])"
   ]
  },
  {
   "cell_type": "code",
   "execution_count": 18,
   "id": "7500718f",
   "metadata": {
    "colab": {
     "base_uri": "https://localhost:8080/"
    },
    "id": "7500718f",
    "outputId": "94a0a330-535b-4b40-da60-220fcafa7a1e"
   },
   "outputs": [
    {
     "name": "stderr",
     "output_type": "stream",
     "text": [
      "[Parallel(n_jobs=-1)]: Using backend ThreadingBackend with 2 concurrent workers.\n",
      "[Parallel(n_jobs=-1)]: Done  46 tasks      | elapsed:   24.2s\n",
      "[Parallel(n_jobs=-1)]: Done 196 tasks      | elapsed:  1.7min\n",
      "[Parallel(n_jobs=-1)]: Done 446 tasks      | elapsed:  3.9min\n",
      "[Parallel(n_jobs=-1)]: Done 500 out of 500 | elapsed:  4.3min finished\n",
      "[Parallel(n_jobs=2)]: Using backend ThreadingBackend with 2 concurrent workers.\n",
      "[Parallel(n_jobs=2)]: Done  46 tasks      | elapsed:    1.2s\n",
      "[Parallel(n_jobs=2)]: Done 196 tasks      | elapsed:    5.1s\n",
      "[Parallel(n_jobs=2)]: Done 446 tasks      | elapsed:   11.7s\n",
      "[Parallel(n_jobs=2)]: Done 500 out of 500 | elapsed:   13.1s finished\n"
     ]
    },
    {
     "name": "stdout",
     "output_type": "stream",
     "text": [
      "The accuracy is:  0.8878683602381796\n",
      "\n",
      "\n",
      "              precision    recall  f1-score   support\n",
      "\n",
      "           0       0.97      0.45      0.61     23363\n",
      "           1       0.88      1.00      0.93     95203\n",
      "\n",
      "    accuracy                           0.89    118566\n",
      "   macro avg       0.92      0.72      0.77    118566\n",
      "weighted avg       0.90      0.89      0.87    118566\n",
      "\n",
      "[[10397 12966]\n",
      " [  329 94874]]\n",
      "\n",
      "\n"
     ]
    },
    {
     "name": "stderr",
     "output_type": "stream",
     "text": [
      "[Parallel(n_jobs=-1)]: Using backend ThreadingBackend with 2 concurrent workers.\n",
      "[Parallel(n_jobs=-1)]: Done  46 tasks      | elapsed:   20.3s\n",
      "[Parallel(n_jobs=-1)]: Done 196 tasks      | elapsed:  1.4min\n",
      "[Parallel(n_jobs=-1)]: Done 446 tasks      | elapsed:  3.3min\n",
      "[Parallel(n_jobs=-1)]: Done 500 out of 500 | elapsed:  3.7min finished\n",
      "[Parallel(n_jobs=2)]: Using backend ThreadingBackend with 2 concurrent workers.\n",
      "[Parallel(n_jobs=2)]: Done  46 tasks      | elapsed:    0.3s\n",
      "[Parallel(n_jobs=2)]: Done 196 tasks      | elapsed:    1.1s\n",
      "[Parallel(n_jobs=2)]: Done 446 tasks      | elapsed:    2.5s\n",
      "[Parallel(n_jobs=2)]: Done 500 out of 500 | elapsed:    2.9s finished\n"
     ]
    },
    {
     "name": "stdout",
     "output_type": "stream",
     "text": [
      "Fold:  1, Accuracy: 0.890\n"
     ]
    },
    {
     "name": "stderr",
     "output_type": "stream",
     "text": [
      "[Parallel(n_jobs=-1)]: Using backend ThreadingBackend with 2 concurrent workers.\n",
      "[Parallel(n_jobs=-1)]: Done  46 tasks      | elapsed:   20.0s\n",
      "[Parallel(n_jobs=-1)]: Done 196 tasks      | elapsed:  1.4min\n",
      "[Parallel(n_jobs=-1)]: Done 446 tasks      | elapsed:  3.3min\n",
      "[Parallel(n_jobs=-1)]: Done 500 out of 500 | elapsed:  3.6min finished\n",
      "[Parallel(n_jobs=2)]: Using backend ThreadingBackend with 2 concurrent workers.\n",
      "[Parallel(n_jobs=2)]: Done  46 tasks      | elapsed:    0.3s\n",
      "[Parallel(n_jobs=2)]: Done 196 tasks      | elapsed:    1.1s\n",
      "[Parallel(n_jobs=2)]: Done 446 tasks      | elapsed:    2.6s\n",
      "[Parallel(n_jobs=2)]: Done 500 out of 500 | elapsed:    2.9s finished\n"
     ]
    },
    {
     "name": "stdout",
     "output_type": "stream",
     "text": [
      "Fold:  2, Accuracy: 0.889\n"
     ]
    },
    {
     "name": "stderr",
     "output_type": "stream",
     "text": [
      "[Parallel(n_jobs=-1)]: Using backend ThreadingBackend with 2 concurrent workers.\n",
      "[Parallel(n_jobs=-1)]: Done  46 tasks      | elapsed:   20.5s\n",
      "[Parallel(n_jobs=-1)]: Done 196 tasks      | elapsed:  1.4min\n",
      "[Parallel(n_jobs=-1)]: Done 446 tasks      | elapsed:  3.2min\n",
      "[Parallel(n_jobs=-1)]: Done 500 out of 500 | elapsed:  3.6min finished\n",
      "[Parallel(n_jobs=2)]: Using backend ThreadingBackend with 2 concurrent workers.\n",
      "[Parallel(n_jobs=2)]: Done  46 tasks      | elapsed:    0.3s\n",
      "[Parallel(n_jobs=2)]: Done 196 tasks      | elapsed:    1.2s\n",
      "[Parallel(n_jobs=2)]: Done 446 tasks      | elapsed:    2.6s\n",
      "[Parallel(n_jobs=2)]: Done 500 out of 500 | elapsed:    2.9s finished\n"
     ]
    },
    {
     "name": "stdout",
     "output_type": "stream",
     "text": [
      "Fold:  3, Accuracy: 0.889\n"
     ]
    },
    {
     "name": "stderr",
     "output_type": "stream",
     "text": [
      "[Parallel(n_jobs=-1)]: Using backend ThreadingBackend with 2 concurrent workers.\n",
      "[Parallel(n_jobs=-1)]: Done  46 tasks      | elapsed:   19.7s\n",
      "[Parallel(n_jobs=-1)]: Done 196 tasks      | elapsed:  1.4min\n",
      "[Parallel(n_jobs=-1)]: Done 446 tasks      | elapsed:  3.3min\n",
      "[Parallel(n_jobs=-1)]: Done 500 out of 500 | elapsed:  3.7min finished\n",
      "[Parallel(n_jobs=2)]: Using backend ThreadingBackend with 2 concurrent workers.\n",
      "[Parallel(n_jobs=2)]: Done  46 tasks      | elapsed:    0.3s\n",
      "[Parallel(n_jobs=2)]: Done 196 tasks      | elapsed:    1.2s\n",
      "[Parallel(n_jobs=2)]: Done 446 tasks      | elapsed:    2.6s\n",
      "[Parallel(n_jobs=2)]: Done 500 out of 500 | elapsed:    3.0s finished\n"
     ]
    },
    {
     "name": "stdout",
     "output_type": "stream",
     "text": [
      "Fold:  4, Accuracy: 0.888\n"
     ]
    },
    {
     "name": "stderr",
     "output_type": "stream",
     "text": [
      "[Parallel(n_jobs=-1)]: Using backend ThreadingBackend with 2 concurrent workers.\n",
      "[Parallel(n_jobs=-1)]: Done  46 tasks      | elapsed:   19.8s\n",
      "[Parallel(n_jobs=-1)]: Done 196 tasks      | elapsed:  1.4min\n",
      "[Parallel(n_jobs=-1)]: Done 446 tasks      | elapsed:  3.2min\n",
      "[Parallel(n_jobs=-1)]: Done 500 out of 500 | elapsed:  3.6min finished\n",
      "[Parallel(n_jobs=2)]: Using backend ThreadingBackend with 2 concurrent workers.\n",
      "[Parallel(n_jobs=2)]: Done  46 tasks      | elapsed:    0.3s\n",
      "[Parallel(n_jobs=2)]: Done 196 tasks      | elapsed:    1.2s\n",
      "[Parallel(n_jobs=2)]: Done 446 tasks      | elapsed:    2.6s\n",
      "[Parallel(n_jobs=2)]: Done 500 out of 500 | elapsed:    3.0s finished\n"
     ]
    },
    {
     "name": "stdout",
     "output_type": "stream",
     "text": [
      "Fold:  5, Accuracy: 0.888\n"
     ]
    },
    {
     "name": "stderr",
     "output_type": "stream",
     "text": [
      "[Parallel(n_jobs=-1)]: Using backend ThreadingBackend with 2 concurrent workers.\n",
      "[Parallel(n_jobs=-1)]: Done  46 tasks      | elapsed:   19.5s\n",
      "[Parallel(n_jobs=-1)]: Done 196 tasks      | elapsed:  1.4min\n",
      "[Parallel(n_jobs=-1)]: Done 446 tasks      | elapsed:  3.2min\n",
      "[Parallel(n_jobs=-1)]: Done 500 out of 500 | elapsed:  3.6min finished\n",
      "[Parallel(n_jobs=2)]: Using backend ThreadingBackend with 2 concurrent workers.\n",
      "[Parallel(n_jobs=2)]: Done  46 tasks      | elapsed:    0.3s\n",
      "[Parallel(n_jobs=2)]: Done 196 tasks      | elapsed:    1.2s\n",
      "[Parallel(n_jobs=2)]: Done 446 tasks      | elapsed:    2.6s\n",
      "[Parallel(n_jobs=2)]: Done 500 out of 500 | elapsed:    2.9s finished\n"
     ]
    },
    {
     "name": "stdout",
     "output_type": "stream",
     "text": [
      "Fold:  6, Accuracy: 0.891\n"
     ]
    },
    {
     "name": "stderr",
     "output_type": "stream",
     "text": [
      "[Parallel(n_jobs=-1)]: Using backend ThreadingBackend with 2 concurrent workers.\n",
      "[Parallel(n_jobs=-1)]: Done  46 tasks      | elapsed:   19.9s\n",
      "[Parallel(n_jobs=-1)]: Done 196 tasks      | elapsed:  1.4min\n",
      "[Parallel(n_jobs=-1)]: Done 446 tasks      | elapsed:  3.3min\n",
      "[Parallel(n_jobs=-1)]: Done 500 out of 500 | elapsed:  3.6min finished\n",
      "[Parallel(n_jobs=2)]: Using backend ThreadingBackend with 2 concurrent workers.\n",
      "[Parallel(n_jobs=2)]: Done  46 tasks      | elapsed:    0.3s\n",
      "[Parallel(n_jobs=2)]: Done 196 tasks      | elapsed:    1.2s\n",
      "[Parallel(n_jobs=2)]: Done 446 tasks      | elapsed:    2.6s\n",
      "[Parallel(n_jobs=2)]: Done 500 out of 500 | elapsed:    2.9s finished\n"
     ]
    },
    {
     "name": "stdout",
     "output_type": "stream",
     "text": [
      "Fold:  7, Accuracy: 0.892\n"
     ]
    },
    {
     "name": "stderr",
     "output_type": "stream",
     "text": [
      "[Parallel(n_jobs=-1)]: Using backend ThreadingBackend with 2 concurrent workers.\n",
      "[Parallel(n_jobs=-1)]: Done  46 tasks      | elapsed:   20.6s\n",
      "[Parallel(n_jobs=-1)]: Done 196 tasks      | elapsed:  1.4min\n",
      "[Parallel(n_jobs=-1)]: Done 446 tasks      | elapsed:  3.3min\n",
      "[Parallel(n_jobs=-1)]: Done 500 out of 500 | elapsed:  3.7min finished\n",
      "[Parallel(n_jobs=2)]: Using backend ThreadingBackend with 2 concurrent workers.\n",
      "[Parallel(n_jobs=2)]: Done  46 tasks      | elapsed:    0.3s\n",
      "[Parallel(n_jobs=2)]: Done 196 tasks      | elapsed:    1.1s\n",
      "[Parallel(n_jobs=2)]: Done 446 tasks      | elapsed:    2.6s\n",
      "[Parallel(n_jobs=2)]: Done 500 out of 500 | elapsed:    2.9s finished\n"
     ]
    },
    {
     "name": "stdout",
     "output_type": "stream",
     "text": [
      "Fold:  8, Accuracy: 0.886\n"
     ]
    },
    {
     "name": "stderr",
     "output_type": "stream",
     "text": [
      "[Parallel(n_jobs=-1)]: Using backend ThreadingBackend with 2 concurrent workers.\n",
      "[Parallel(n_jobs=-1)]: Done  46 tasks      | elapsed:   19.9s\n",
      "[Parallel(n_jobs=-1)]: Done 196 tasks      | elapsed:  1.4min\n",
      "[Parallel(n_jobs=-1)]: Done 446 tasks      | elapsed:  3.3min\n",
      "[Parallel(n_jobs=-1)]: Done 500 out of 500 | elapsed:  3.7min finished\n",
      "[Parallel(n_jobs=2)]: Using backend ThreadingBackend with 2 concurrent workers.\n",
      "[Parallel(n_jobs=2)]: Done  46 tasks      | elapsed:    0.3s\n",
      "[Parallel(n_jobs=2)]: Done 196 tasks      | elapsed:    1.1s\n",
      "[Parallel(n_jobs=2)]: Done 446 tasks      | elapsed:    2.5s\n",
      "[Parallel(n_jobs=2)]: Done 500 out of 500 | elapsed:    2.8s finished\n"
     ]
    },
    {
     "name": "stdout",
     "output_type": "stream",
     "text": [
      "Fold:  9, Accuracy: 0.890\n"
     ]
    },
    {
     "name": "stderr",
     "output_type": "stream",
     "text": [
      "[Parallel(n_jobs=-1)]: Using backend ThreadingBackend with 2 concurrent workers.\n",
      "[Parallel(n_jobs=-1)]: Done  46 tasks      | elapsed:   19.8s\n",
      "[Parallel(n_jobs=-1)]: Done 196 tasks      | elapsed:  1.4min\n",
      "[Parallel(n_jobs=-1)]: Done 446 tasks      | elapsed:  3.2min\n",
      "[Parallel(n_jobs=-1)]: Done 500 out of 500 | elapsed:  3.6min finished\n",
      "[Parallel(n_jobs=2)]: Using backend ThreadingBackend with 2 concurrent workers.\n",
      "[Parallel(n_jobs=2)]: Done  46 tasks      | elapsed:    0.3s\n",
      "[Parallel(n_jobs=2)]: Done 196 tasks      | elapsed:    1.2s\n",
      "[Parallel(n_jobs=2)]: Done 446 tasks      | elapsed:    2.7s\n"
     ]
    },
    {
     "name": "stdout",
     "output_type": "stream",
     "text": [
      "Fold: 10, Accuracy: 0.889\n",
      "\n",
      "\n",
      "Cross-Validation accuracy: 0.889 +/- 0.002\n"
     ]
    },
    {
     "name": "stderr",
     "output_type": "stream",
     "text": [
      "[Parallel(n_jobs=2)]: Done 500 out of 500 | elapsed:    3.0s finished\n"
     ]
    }
   ],
   "source": [
    "classification_model(pipe_rfc,X_train,X_test,y_train,y_test)"
   ]
  },
  {
   "cell_type": "code",
   "execution_count": null,
   "id": "8aa5ef5d",
   "metadata": {},
   "outputs": [],
   "source": []
  },
  {
   "cell_type": "markdown",
   "id": "a4a596e0",
   "metadata": {},
   "source": [
    "## Deep Neural Network"
   ]
  },
  {
   "cell_type": "code",
   "execution_count": 28,
   "id": "5a5cbb47",
   "metadata": {},
   "outputs": [],
   "source": [
    "import tensorflow as tf\n",
    "from tensorflow.keras.models import Sequential\n",
    "from tensorflow.keras.layers import Dense,Dropout\n",
    "from tensorflow.keras.callbacks import EarlyStopping"
   ]
  },
  {
   "cell_type": "code",
   "execution_count": 27,
   "id": "b6bd581a",
   "metadata": {},
   "outputs": [
    {
     "data": {
      "text/plain": [
       "75"
      ]
     },
     "execution_count": 27,
     "metadata": {},
     "output_type": "execute_result"
    }
   ],
   "source": [
    "len(X_train.columns)"
   ]
  },
  {
   "cell_type": "code",
   "execution_count": 30,
   "id": "b5f0c4e3",
   "metadata": {},
   "outputs": [],
   "source": [
    "scaler=StandardScaler()\n",
    "X_train_scaled=scaler.fit_transform(X_train)\n",
    "X_test_scaled=scaler.transform(X_test)"
   ]
  },
  {
   "cell_type": "markdown",
   "id": "c861568c",
   "metadata": {},
   "source": [
    "**Here we would be training a sequential deep learning neural network model. The layers would be of the form 80 ---> 40 ---> 20 ---> 10 ---> 1. The number of neurons is based on the number of features in the data which in this case is 75. Additionally we would be using dropout layers and early stopping to prevent overfitting the data.**"
   ]
  },
  {
   "cell_type": "code",
   "execution_count": 36,
   "id": "1f02d72c",
   "metadata": {},
   "outputs": [],
   "source": [
    "model = Sequential()\n",
    "\n",
    "model.add(Dense(80,activation='relu'))\n",
    "model.add(Dropout(0.5))\n",
    "\n",
    "model.add(Dense(40,activation='relu'))\n",
    "model.add(Dropout(0.5))\n",
    "\n",
    "model.add(Dense(20,activation='relu'))\n",
    "model.add(Dropout(0.2))\n",
    "\n",
    "model.add(Dense(10,activation='relu'))\n",
    "model.add(Dropout(0.2))\n",
    "\n",
    "# output layer \n",
    "model.add(Dense(1,activation='sigmoid'))\n",
    "\n",
    "# compiling the model\n",
    "model.compile(optimizer='adam',loss='binary_crossentropy',metrics=['accuracy'])"
   ]
  },
  {
   "cell_type": "code",
   "execution_count": 37,
   "id": "bea103a4",
   "metadata": {},
   "outputs": [],
   "source": [
    "early_stop=EarlyStopping(monitor='val_loss',patience=5,verbose=3,mode='min')"
   ]
  },
  {
   "cell_type": "code",
   "execution_count": 38,
   "id": "575a3579",
   "metadata": {},
   "outputs": [
    {
     "name": "stdout",
     "output_type": "stream",
     "text": [
      "Epoch 1/60\n",
      "8646/8646 [==============================] - 80s 9ms/step - loss: 0.3059 - accuracy: 0.8748 - val_loss: 0.2659 - val_accuracy: 0.8869\n",
      "Epoch 2/60\n",
      "8646/8646 [==============================] - 76s 9ms/step - loss: 0.2715 - accuracy: 0.8844 - val_loss: 0.2677 - val_accuracy: 0.8869\n",
      "Epoch 3/60\n",
      "8646/8646 [==============================] - 77s 9ms/step - loss: 0.2686 - accuracy: 0.8848 - val_loss: 0.2689 - val_accuracy: 0.8869\n",
      "Epoch 4/60\n",
      "8646/8646 [==============================] - 81s 9ms/step - loss: 0.2677 - accuracy: 0.8851 - val_loss: 0.2674 - val_accuracy: 0.8869\n",
      "Epoch 5/60\n",
      "8646/8646 [==============================] - 77s 9ms/step - loss: 0.2672 - accuracy: 0.8851 - val_loss: 0.2637 - val_accuracy: 0.8869\n",
      "Epoch 6/60\n",
      "8646/8646 [==============================] - 81s 9ms/step - loss: 0.2675 - accuracy: 0.8849 - val_loss: 0.2615 - val_accuracy: 0.8869\n",
      "Epoch 7/60\n",
      "8646/8646 [==============================] - 79s 9ms/step - loss: 0.2664 - accuracy: 0.8851 - val_loss: 0.2619 - val_accuracy: 0.8869\n",
      "Epoch 8/60\n",
      "8646/8646 [==============================] - 78s 9ms/step - loss: 0.2666 - accuracy: 0.8849 - val_loss: 0.2626 - val_accuracy: 0.8869\n",
      "Epoch 9/60\n",
      "8646/8646 [==============================] - 76s 9ms/step - loss: 0.2658 - accuracy: 0.8851 - val_loss: 0.2616 - val_accuracy: 0.8869\n",
      "Epoch 10/60\n",
      "8646/8646 [==============================] - 78s 9ms/step - loss: 0.2663 - accuracy: 0.8852 - val_loss: 0.2620 - val_accuracy: 0.8869\n",
      "Epoch 11/60\n",
      "8646/8646 [==============================] - 76s 9ms/step - loss: 0.2658 - accuracy: 0.8851 - val_loss: 0.2608 - val_accuracy: 0.8869\n",
      "Epoch 12/60\n",
      "8646/8646 [==============================] - 77s 9ms/step - loss: 0.2659 - accuracy: 0.8852 - val_loss: 0.2620 - val_accuracy: 0.8869\n",
      "Epoch 13/60\n",
      "8646/8646 [==============================] - 77s 9ms/step - loss: 0.2654 - accuracy: 0.8851 - val_loss: 0.2616 - val_accuracy: 0.8869\n",
      "Epoch 14/60\n",
      "8646/8646 [==============================] - 79s 9ms/step - loss: 0.2652 - accuracy: 0.8853 - val_loss: 0.2621 - val_accuracy: 0.8869\n",
      "Epoch 15/60\n",
      "8646/8646 [==============================] - 77s 9ms/step - loss: 0.2665 - accuracy: 0.8850 - val_loss: 0.2603 - val_accuracy: 0.8869\n",
      "Epoch 16/60\n",
      "8646/8646 [==============================] - 77s 9ms/step - loss: 0.2651 - accuracy: 0.8853 - val_loss: 0.2610 - val_accuracy: 0.8869\n",
      "Epoch 17/60\n",
      "8646/8646 [==============================] - 77s 9ms/step - loss: 0.2646 - accuracy: 0.8856 - val_loss: 0.2650 - val_accuracy: 0.8869\n",
      "Epoch 18/60\n",
      "8646/8646 [==============================] - 75s 9ms/step - loss: 0.2653 - accuracy: 0.8850 - val_loss: 0.2610 - val_accuracy: 0.8869\n",
      "Epoch 19/60\n",
      "8646/8646 [==============================] - 76s 9ms/step - loss: 0.2655 - accuracy: 0.8853 - val_loss: 0.2608 - val_accuracy: 0.8869\n",
      "Epoch 20/60\n",
      "8646/8646 [==============================] - 76s 9ms/step - loss: 0.2659 - accuracy: 0.8851 - val_loss: 0.2616 - val_accuracy: 0.8870\n",
      "Epoch 00020: early stopping\n"
     ]
    },
    {
     "data": {
      "text/plain": [
       "<keras.callbacks.History at 0x26efc332640>"
      ]
     },
     "execution_count": 38,
     "metadata": {},
     "output_type": "execute_result"
    }
   ],
   "source": [
    "model.fit(x=X_train_scaled,y=y_train,validation_data=(X_test_scaled,y_test),epochs=60,callbacks=[early_stop])"
   ]
  },
  {
   "cell_type": "code",
   "execution_count": 39,
   "id": "3577c18a",
   "metadata": {},
   "outputs": [],
   "source": [
    "# saving the model\n",
    "model.save('loan_default_classification.h5')"
   ]
  },
  {
   "cell_type": "markdown",
   "id": "f8262ea5",
   "metadata": {},
   "source": [
    "### Evaluating the performance"
   ]
  },
  {
   "cell_type": "code",
   "execution_count": 40,
   "id": "079c80b8",
   "metadata": {},
   "outputs": [
    {
     "data": {
      "text/html": [
       "<div>\n",
       "<style scoped>\n",
       "    .dataframe tbody tr th:only-of-type {\n",
       "        vertical-align: middle;\n",
       "    }\n",
       "\n",
       "    .dataframe tbody tr th {\n",
       "        vertical-align: top;\n",
       "    }\n",
       "\n",
       "    .dataframe thead th {\n",
       "        text-align: right;\n",
       "    }\n",
       "</style>\n",
       "<table border=\"1\" class=\"dataframe\">\n",
       "  <thead>\n",
       "    <tr style=\"text-align: right;\">\n",
       "      <th></th>\n",
       "      <th>loss</th>\n",
       "      <th>accuracy</th>\n",
       "      <th>val_loss</th>\n",
       "      <th>val_accuracy</th>\n",
       "    </tr>\n",
       "  </thead>\n",
       "  <tbody>\n",
       "    <tr>\n",
       "      <th>0</th>\n",
       "      <td>0.305887</td>\n",
       "      <td>0.874764</td>\n",
       "      <td>0.265920</td>\n",
       "      <td>0.886941</td>\n",
       "    </tr>\n",
       "    <tr>\n",
       "      <th>1</th>\n",
       "      <td>0.271452</td>\n",
       "      <td>0.884393</td>\n",
       "      <td>0.267675</td>\n",
       "      <td>0.886932</td>\n",
       "    </tr>\n",
       "    <tr>\n",
       "      <th>2</th>\n",
       "      <td>0.268563</td>\n",
       "      <td>0.884802</td>\n",
       "      <td>0.268895</td>\n",
       "      <td>0.886932</td>\n",
       "    </tr>\n",
       "    <tr>\n",
       "      <th>3</th>\n",
       "      <td>0.267735</td>\n",
       "      <td>0.885058</td>\n",
       "      <td>0.267448</td>\n",
       "      <td>0.886932</td>\n",
       "    </tr>\n",
       "    <tr>\n",
       "      <th>4</th>\n",
       "      <td>0.267200</td>\n",
       "      <td>0.885076</td>\n",
       "      <td>0.263658</td>\n",
       "      <td>0.886941</td>\n",
       "    </tr>\n",
       "  </tbody>\n",
       "</table>\n",
       "</div>"
      ],
      "text/plain": [
       "       loss  accuracy  val_loss  val_accuracy\n",
       "0  0.305887  0.874764  0.265920      0.886941\n",
       "1  0.271452  0.884393  0.267675      0.886932\n",
       "2  0.268563  0.884802  0.268895      0.886932\n",
       "3  0.267735  0.885058  0.267448      0.886932\n",
       "4  0.267200  0.885076  0.263658      0.886941"
      ]
     },
     "execution_count": 40,
     "metadata": {},
     "output_type": "execute_result"
    }
   ],
   "source": [
    "losses=pd.DataFrame(model.history.history)\n",
    "losses.head()"
   ]
  },
  {
   "cell_type": "code",
   "execution_count": 41,
   "id": "eea9b0b7",
   "metadata": {},
   "outputs": [
    {
     "data": {
      "text/plain": [
       "<AxesSubplot:>"
      ]
     },
     "execution_count": 41,
     "metadata": {},
     "output_type": "execute_result"
    },
    {
     "data": {
      "image/png": "[encoded data removed]",
      "text/plain": [
       "<Figure size 432x288 with 1 Axes>"
      ]
     },
     "metadata": {
      "needs_background": "light"
     },
     "output_type": "display_data"
    }
   ],
   "source": [
    "losses[['loss','val_loss']].plot()"
   ]
  },
  {
   "cell_type": "code",
   "execution_count": 42,
   "id": "1fa8bb26",
   "metadata": {},
   "outputs": [
    {
     "data": {
      "text/plain": [
       "<AxesSubplot:>"
      ]
     },
     "execution_count": 42,
     "metadata": {},
     "output_type": "execute_result"
    },
    {
     "data": {
      "image/png": "[encoded data removed]",
      "text/plain": [
       "<Figure size 432x288 with 1 Axes>"
      ]
     },
     "metadata": {
      "needs_background": "light"
     },
     "output_type": "display_data"
    }
   ],
   "source": [
    "losses[['accuracy','val_accuracy']].plot()"
   ]
  },
  {
   "cell_type": "code",
   "execution_count": 43,
   "id": "dd93e4f9",
   "metadata": {},
   "outputs": [],
   "source": [
    "predictions=model.predict(X_test_scaled)"
   ]
  },
  {
   "cell_type": "code",
   "execution_count": 44,
   "id": "ad23f7e8",
   "metadata": {},
   "outputs": [
    {
     "data": {
      "text/plain": [
       "array([[1.        ],\n",
       "       [1.        ],\n",
       "       [1.        ],\n",
       "       ...,\n",
       "       [0.        ],\n",
       "       [0.6453951 ],\n",
       "       [0.70444757]], dtype=float32)"
      ]
     },
     "execution_count": 44,
     "metadata": {},
     "output_type": "execute_result"
    }
   ],
   "source": [
    "predictions"
   ]
  },
  {
   "cell_type": "markdown",
   "id": "69aad8b8",
   "metadata": {},
   "source": [
    "**Predictions contains the probability for each class. We need to round the probabilities to get the class.**"
   ]
  },
  {
   "cell_type": "code",
   "execution_count": 49,
   "id": "59eb5288",
   "metadata": {},
   "outputs": [],
   "source": [
    "for i in range(len(predictions)):\n",
    "    predictions[i][0]=int(round(predictions[i][0]))"
   ]
  },
  {
   "cell_type": "code",
   "execution_count": 50,
   "id": "cf0198e3",
   "metadata": {},
   "outputs": [
    {
     "name": "stdout",
     "output_type": "stream",
     "text": [
      "              precision    recall  f1-score   support\n",
      "\n",
      "           0       1.00      0.43      0.60     23363\n",
      "           1       0.88      1.00      0.93     95203\n",
      "\n",
      "    accuracy                           0.89    118566\n",
      "   macro avg       0.94      0.71      0.77    118566\n",
      "weighted avg       0.90      0.89      0.87    118566\n",
      "\n"
     ]
    }
   ],
   "source": [
    "print(classification_report(y_test,predictions))"
   ]
  },
  {
   "cell_type": "code",
   "execution_count": 51,
   "id": "1d942a57",
   "metadata": {},
   "outputs": [
    {
     "name": "stdout",
     "output_type": "stream",
     "text": [
      "[[ 9990 13373]\n",
      " [   27 95176]]\n"
     ]
    }
   ],
   "source": [
    "print(confusion_matrix(y_test,predictions))"
   ]
  },
  {
   "cell_type": "code",
   "execution_count": 52,
   "id": "acfccbde",
   "metadata": {},
   "outputs": [
    {
     "data": {
      "text/plain": [
       "0.8869827775247542"
      ]
     },
     "execution_count": 52,
     "metadata": {},
     "output_type": "execute_result"
    }
   ],
   "source": [
    "accuracy_score(y_test,predictions)"
   ]
  },
  {
   "cell_type": "markdown",
   "id": "f60278da",
   "metadata": {
    "id": "72a11958"
   },
   "source": [
    "**We created 4 different models starting from logistic regression, K-nearest neighbors, random forest and finally neural network. The accuracy of the models was almost similar in the range of about 86% to 89%.**"
   ]
  },
  {
   "cell_type": "code",
   "execution_count": null,
   "id": "1d22f03f",
   "metadata": {
    "id": "1d22f03f"
   },
   "outputs": [],
   "source": []
  }
 ],
 "metadata": {
  "accelerator": "GPU",
  "colab": {
   "name": "Model-Creation-Training.ipynb",
   "provenance": []
  },
  "kernelspec": {
   "display_name": "Python 3 (ipykernel)",
   "language": "python",
   "name": "python3"
  },
  "language_info": {
   "codemirror_mode": {
    "name": "ipython",
    "version": 3
   },
   "file_extension": ".py",
   "mimetype": "text/x-python",
   "name": "python",
   "nbconvert_exporter": "python",
   "pygments_lexer": "ipython3",
   "version": "3.9.7"
  }
 },
 "nbformat": 4,
 "nbformat_minor": 5
}
